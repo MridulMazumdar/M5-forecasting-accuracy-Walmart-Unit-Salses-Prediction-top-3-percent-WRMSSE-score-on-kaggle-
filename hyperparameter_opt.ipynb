{
  "nbformat": 4,
  "nbformat_minor": 0,
  "metadata": {
    "colab": {
      "name": "hyperparameter_opt.ipynb",
      "provenance": [],
      "collapsed_sections": [],
      "machine_shape": "hm"
    },
    "kernelspec": {
      "display_name": "Python 3",
      "name": "python3"
    },
    "language_info": {
      "name": "python"
    }
  },
  "cells": [
    {
      "cell_type": "code",
      "metadata": {
        "colab": {
          "base_uri": "https://localhost:8080/"
        },
        "id": "yzBfxK5_0Fo9",
        "outputId": "f0d631e2-558b-49f9-f9a8-3bf2938fb8fe"
      },
      "source": [
        "from google.colab import drive\n",
        "drive.mount('/content/drive')"
      ],
      "execution_count": null,
      "outputs": [
        {
          "output_type": "stream",
          "text": [
            "Mounted at /content/drive\n"
          ],
          "name": "stdout"
        }
      ]
    },
    {
      "cell_type": "code",
      "metadata": {
        "id": "ZYb8JfRCZBko"
      },
      "source": [
        "!pip3 install optuna"
      ],
      "execution_count": null,
      "outputs": []
    },
    {
      "cell_type": "code",
      "metadata": {
        "id": "aC-lNK2Harob"
      },
      "source": [
        "import pandas as pd\n",
        "import numpy as np\n",
        "from sklearn.preprocessing import LabelEncoder\n",
        "import optuna\n",
        "from tqdm import tqdm\n",
        "import lightgbm as lgb\n",
        "from sklearn.metrics import mean_tweedie_deviance,r2_score,mean_squared_error"
      ],
      "execution_count": null,
      "outputs": []
    },
    {
      "cell_type": "code",
      "metadata": {
        "id": "KIrcPmLya220"
      },
      "source": [
        "full_grid=pd.read_pickle('/content/drive/MyDrive/Case_study1/store_wise/CA_1_full_grid.pkl')\n",
        "full_grid['d'] = full_grid['d'].apply(lambda x: x[2:]).astype(np.int16)\n",
        "full_grid['item_id']=LabelEncoder().fit_transform(full_grid['item_id']).astype('int16')\n",
        "full_grid['dept_id']=LabelEncoder().fit_transform(full_grid['dept_id']).astype('int16')\n",
        "full_grid['cat_id']=LabelEncoder().fit_transform(full_grid['cat_id']).astype('int16')"
      ],
      "execution_count": null,
      "outputs": []
    },
    {
      "cell_type": "code",
      "metadata": {
        "colab": {
          "base_uri": "https://localhost:8080/"
        },
        "id": "bvtwqlGdk1am",
        "outputId": "464c881d-491f-4f6b-882e-1a7c35cd90bb"
      },
      "source": [
        "full_grid.columns"
      ],
      "execution_count": null,
      "outputs": [
        {
          "output_type": "execute_result",
          "data": {
            "text/plain": [
              "Index(['id', 'item_id', 'dept_id', 'cat_id', 'store_id', 'state_id', 'd',\n",
              "       'sales', 'release', 'wm_yr_wk_x', 'sell_price', 'price_max',\n",
              "       'price_min', 'price_std', 'price_mean', 'price_norm', 'price_nunique',\n",
              "       'item_nunique', 'price_momentum', 'price_momentum_m',\n",
              "       'price_momentum_y', 'wm_yr_wk_y', 'wday', 'month', 'year',\n",
              "       'event_name_1', 'event_type_1', 'event_name_2', 'event_type_2',\n",
              "       'snap_CA', 'snap_TX', 'snap_WI', 'tm_d', 'tm_w', 'tm_m', 'tm_y',\n",
              "       'tm_wm', 'tm_dw', 'tm_w_end', 'enc_cat_id_mean', 'enc_cat_id_std',\n",
              "       'enc_dept_id_mean', 'enc_dept_id_std', 'enc_item_id_mean',\n",
              "       'enc_item_id_std', 'lag_28', 'lag_29', 'lag_30', 'lag_31', 'lag_32',\n",
              "       'lag_33', 'lag_34', 'lag_35', 'lag_36', 'lag_37', 'lag_38', 'lag_39',\n",
              "       'lag_40', 'lag_41', 'lag_42', 'rolling_mean_7', 'rolling_std_7',\n",
              "       'rolling_mean_14', 'rolling_std_14', 'rolling_mean_30',\n",
              "       'rolling_std_30', 'rolling_mean_60', 'rolling_std_60',\n",
              "       'rolling_mean_180', 'rolling_std_180', 'AWND', 'PRCP', 'TAVG'],\n",
              "      dtype='object')"
            ]
          },
          "metadata": {
            "tags": []
          },
          "execution_count": 5
        }
      ]
    },
    {
      "cell_type": "code",
      "metadata": {
        "id": "uMBp0gL1kyIX"
      },
      "source": [
        "features=['item_id', 'dept_id', 'cat_id','d',\n",
        "        'release', 'sell_price', 'price_max', 'price_min', 'price_std',\n",
        "       'price_mean', 'price_norm', 'price_nunique', 'item_nunique',\n",
        "       'price_momentum', 'price_momentum_m', 'price_momentum_y', 'wday',\n",
        "       'month', 'year', 'event_name_1', 'event_type_1', 'event_name_2',\n",
        "       'event_type_2', 'snap_CA', 'snap_TX', 'snap_WI', 'tm_d', 'tm_w', 'tm_m',\n",
        "       'tm_y', 'tm_wm', 'tm_dw', 'tm_w_end', 'enc_cat_id_mean',\n",
        "       'enc_cat_id_std', 'enc_dept_id_mean', 'enc_dept_id_std',\n",
        "       'enc_item_id_mean', 'enc_item_id_std', 'lag_28', 'lag_29', 'lag_30',\n",
        "       'lag_31', 'lag_32', 'lag_33', 'lag_34', 'lag_35', 'lag_36', 'lag_37',\n",
        "       'lag_38', 'lag_39', 'lag_40', 'lag_41', 'lag_42', 'rolling_mean_7',\n",
        "       'rolling_std_7', 'rolling_mean_14', 'rolling_std_14', 'rolling_mean_30',\n",
        "       'rolling_std_30', 'rolling_mean_60', 'rolling_std_60', 'AWND', 'PRCP',\n",
        "       'TAVG']\n",
        "\n",
        "target='sales'\n",
        "\n",
        "tr_mask=(full_grid['d']>=710) & (full_grid['d']<=1550)\n",
        "\n",
        "vl_mask=(full_grid['d']>=1551) & (full_grid['d']<=1579)\n",
        "\n",
        "\n",
        "train_data = lgb.Dataset(full_grid[tr_mask][features], \n",
        "                       label=full_grid[tr_mask]['sales'])\n",
        "\n",
        "valid_data = lgb.Dataset(full_grid[vl_mask][features], \n",
        "                           label=full_grid[vl_mask]['sales'])"
      ],
      "execution_count": null,
      "outputs": []
    },
    {
      "cell_type": "code",
      "metadata": {
        "id": "I4NaepV6z4yQ"
      },
      "source": [
        "def objective(trial):\n",
        "\n",
        "  param = {\n",
        "        'objective': 'tweedie',\n",
        "        'metric': 'rmse',\n",
        "        'tweedie_variance_power': 1.1,\n",
        "        'verbose': -1,\n",
        "        'boosting_type': 'gbdt',\n",
        "        'boost_from_average':False,\n",
        "        'subsample' : trial.suggest_uniform('subsample', 0.5, 1.0),\n",
        "        'learning_rate' : trial.suggest_uniform('learning_rate',0.001,0.1),\n",
        "        'num_leaves': trial.suggest_int('num_leaves', 500,4000),\n",
        "        'feature_fraction': trial.suggest_uniform('feature_fraction', 0.4, 1.0),\n",
        "        'bagging_fraction': trial.suggest_uniform('bagging_fraction', 0.4, 1.0),\n",
        "        'bagging_freq': trial.suggest_int('bagging_freq', 1, 7),\n",
        "        'n_estimators': trial.suggest_int('n_estimators',100,3000),\n",
        "        'min_data_in_leaf': trial.suggest_int('num_leaves', 500,4000),\n",
        "        'feature_pre_filter':False\n",
        "    }\n",
        "    \n",
        "  gbm = lgb.train(param,train_data)\n",
        "  y_pred=gbm.predict(full_grid[vl_mask][features])\n",
        "  \n",
        "  print('r2_score: ',r2_score(valid_data.get_label(),y_pred))\n",
        "  print('rmse: ',mean_squared_error(valid_data.get_label(),y_pred,squared=False))\n",
        "\n",
        "  return mean_tweedie_deviance(valid_data.get_label(),y_pred,power=1.1)\n",
        "\n",
        "study = optuna.create_study(direction='minimize')\n",
        "study.optimize(objective, n_trials=20)"
      ],
      "execution_count": null,
      "outputs": []
    },
    {
      "cell_type": "code",
      "metadata": {
        "id": "_o6F8edq3N-J"
      },
      "source": [
        "print(study.best_trial)"
      ],
      "execution_count": null,
      "outputs": []
    }
  ]
}